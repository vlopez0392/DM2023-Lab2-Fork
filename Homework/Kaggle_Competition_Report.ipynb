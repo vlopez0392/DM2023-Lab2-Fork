{
 "cells": [
  {
   "cell_type": "markdown",
   "metadata": {},
   "source": [
    "## Kaggle Competition Report - Fall 2023 Data Mining"
   ]
  },
  {
   "cell_type": "code",
   "execution_count": 1,
   "metadata": {},
   "outputs": [],
   "source": [
    "##Imports \n",
    "import json \n",
    "import pandas as pd\n",
    "import csv\n",
    "import numpy as np\n",
    "import emoji\n",
    "import re"
   ]
  },
  {
   "cell_type": "markdown",
   "metadata": {},
   "source": [
    "## 1. Data Preparation and Exploration"
   ]
  },
  {
   "cell_type": "markdown",
   "metadata": {},
   "source": [
    "#### 1.1 Loading the raw tweets_DM.json file"
   ]
  },
  {
   "cell_type": "markdown",
   "metadata": {},
   "source": [
    "We aim to create both a training and testing dataframe from the tweets_DM.json file. First let's load the raw tweet data into a python list and explore the possible attributes to consider:"
   ]
  },
  {
   "cell_type": "code",
   "execution_count": 2,
   "metadata": {},
   "outputs": [],
   "source": [
    "##Opening the tweets_DM.json file\n",
    "tweet_data = [];\n",
    "with open(\"./data/tweets_DM.json\" ,'r') as file:\n",
    "    for line in file:   \n",
    "        tweet_data.append(json.loads(line));"
   ]
  },
  {
   "cell_type": "code",
   "execution_count": 3,
   "metadata": {},
   "outputs": [
    {
     "data": {
      "text/plain": [
       "{'_score': 391,\n",
       " '_index': 'hashtag_tweets',\n",
       " '_source': {'tweet': {'hashtags': ['Snapchat'],\n",
       "   'tweet_id': '0x376b20',\n",
       "   'text': 'People who post \"add me on #Snapchat\" must be dehydrated. Cuz man.... that\\'s <LH>'}},\n",
       " '_crawldate': '2015-05-23 11:42:47',\n",
       " '_type': 'tweets'}"
      ]
     },
     "execution_count": 3,
     "metadata": {},
     "output_type": "execute_result"
    }
   ],
   "source": [
    "tweet_data[0]"
   ]
  },
  {
   "cell_type": "markdown",
   "metadata": {},
   "source": [
    "Let's check the length of the tweet_data list:"
   ]
  },
  {
   "cell_type": "code",
   "execution_count": 4,
   "metadata": {},
   "outputs": [
    {
     "data": {
      "text/plain": [
       "1867535"
      ]
     },
     "execution_count": 4,
     "metadata": {},
     "output_type": "execute_result"
    }
   ],
   "source": [
    "len(tweet_data)"
   ]
  },
  {
   "cell_type": "markdown",
   "metadata": {},
   "source": [
    "#### 1.2 Creating the testing and training datasets"
   ]
  },
  {
   "cell_type": "markdown",
   "metadata": {},
   "source": [
    "Our first big goal is to create a dataframe. We first systematically extract the relevant data from the .json file and we aim to create a .csv file for training and testing datasets simultaneously. We have identified the following attributes as relevant for our model. \n",
    "<ul>\n",
    "    <li>tweet_id </li>\n",
    "    <li>tweet_text</li>\n",
    "    <li>score</li>\n",
    "    <li>crawl_date</li>\n",
    "    <li>hashtag_text</li>\n",
    "    <li>target emotion (From emotion.csv)</li>\n",
    "</ul>\n",
    "\n",
    "We will read the *data_identification.csv* file and use the *identification* attribute to control where each data entry in the tweets_data list is directed to (either testing or training datasets). First, let's determine if any keys in the provided tweets json file have missing values. We design the feature counter for this purpose. While not too relevant right now, it may help us improve our data extraction procedures."
   ]
  },
  {
   "cell_type": "code",
   "execution_count": 5,
   "metadata": {},
   "outputs": [],
   "source": [
    "def feature_counter(tweet_data):\n",
    "    ##Get the keys \n",
    "    keys = tweet_data[0].keys()\n",
    "    \n",
    "    ##Count the features \n",
    "    feature_counts = dict.fromkeys(keys,0);\n",
    "    for tweet in tweet_data:\n",
    "        for key in keys:\n",
    "            if tweet[key]:\n",
    "                feature_counts[key] += 1;\n",
    "    return feature_counts;"
   ]
  },
  {
   "cell_type": "code",
   "execution_count": 6,
   "metadata": {},
   "outputs": [
    {
     "data": {
      "text/plain": [
       "{'_score': 1867535,\n",
       " '_index': 1867535,\n",
       " '_source': 1867535,\n",
       " '_crawldate': 1867535,\n",
       " '_type': 1867535}"
      ]
     },
     "execution_count": 6,
     "metadata": {},
     "output_type": "execute_result"
    }
   ],
   "source": [
    "feature_counts = feature_counter(tweet_data);\n",
    "feature_counts"
   ]
  },
  {
   "cell_type": "markdown",
   "metadata": {},
   "source": [
    "Therefore, each of the attributes above has some data in it. We are particulary interested in the source data since it contains the *tweet_id* and *tweet_text* attributes. These attributes are the cornerstone to improve the performance of our future model. "
   ]
  },
  {
   "cell_type": "code",
   "execution_count": 7,
   "metadata": {},
   "outputs": [],
   "source": [
    "###Generate dictionary with featurest of interest\n",
    "def gen_tweet_dict(tweet_data):\n",
    "    ##Get the keys \n",
    "    keys = tweet_data[0].keys()\n",
    "    source_keys = tweet_data[0][\"_source\"][\"tweet\"].keys(); #['hashtags', 'tweet_id', 'text']\n",
    "\n",
    "    ##Declare temp variables to hold tweet_id, tweet_text, score, crawl_date, hashtag_text\n",
    "    tweet_id_key = ''; #String \n",
    "    tweet_text = '';   #String\n",
    "    score = 0;         #int\n",
    "    crawl_date = '';   #string\"\n",
    "    hashtag_text = ''; #List but cast it to string \n",
    "    hashtag = list();\n",
    "    \n",
    "    ##Create a dictionary with tweet_id as keys \n",
    "    tweet_dict = dict();\n",
    "\n",
    "    ##Fill the dictionary\n",
    "    for tweet in tweet_data:\n",
    "        for key in keys:\n",
    "            if key == \"_index\" or key == \"_type\":\n",
    "                continue;\n",
    "            else: \n",
    "                if key == \"_score\":\n",
    "                    score = np.int16(tweet[key]);\n",
    "                elif key == \"_crawldate\":\n",
    "                    crawl_date = tweet[key];    \n",
    "                elif key == \"_source\":\n",
    "                    for skey in source_keys:\n",
    "                        if skey == \"hashtags\":\n",
    "                            hashtag = tweet[key][\"tweet\"][skey];\n",
    "                            if len(hashtag) > 0: ##Tweet has hashtags\n",
    "                                hashtag_text = ' '.join(hashtag)\n",
    "                            else:\n",
    "                                hashtag_text = ' ';\n",
    "                        elif skey == \"tweet_id\":\n",
    "                            tweet_id_key = tweet[key][\"tweet\"][skey];\n",
    "                            tweet_dict[tweet_id_key] = {'tweet_id': tweet_id_key}\n",
    "                        elif skey == \"text\":\n",
    "                            tweet_text = str(tweet[key][\"tweet\"][skey])\n",
    "                            tweet_text = tweet_text.replace('\\r', \"\")\n",
    "        \n",
    "        ##Merge dictionaries\n",
    "        tweet_dict[tweet_id_key] |= {\"score\" : score, \"crawl_date\" : crawl_date, \"hashtag_text\": hashtag_text, \"tweet_text\":tweet_text};   \n",
    "    \n",
    "        ##Reset values\n",
    "        tweet_id_key = ''; tweet_text = ''; score = 0; crawl_date = ''; hashtag_text = ''; hashtag = list();\n",
    "\n",
    "    return tweet_dict;                      "
   ]
  },
  {
   "cell_type": "code",
   "execution_count": 8,
   "metadata": {},
   "outputs": [],
   "source": [
    "tweet_dict = gen_tweet_dict(tweet_data);"
   ]
  },
  {
   "cell_type": "markdown",
   "metadata": {},
   "source": [
    "Let's check some values in our dictionary and verify they are the same as in the tweets JSON file:"
   ]
  },
  {
   "cell_type": "code",
   "execution_count": 9,
   "metadata": {},
   "outputs": [
    {
     "data": {
      "text/plain": [
       "{'tweet_id': '0x3376ab',\n",
       " 'score': 491,\n",
       " 'crawl_date': '2016-12-25 02:16:36',\n",
       " 'hashtag_text': ' ',\n",
       " 'tweet_text': 'AND this British guy just paid for our dinner. Im feeling super <LH> rn'}"
      ]
     },
     "execution_count": 9,
     "metadata": {},
     "output_type": "execute_result"
    }
   ],
   "source": [
    "tweet_dict['0x3376ab']"
   ]
  },
  {
   "cell_type": "code",
   "execution_count": 10,
   "metadata": {},
   "outputs": [
    {
     "data": {
      "text/plain": [
       "{'tweet_id': '0x2e4bae',\n",
       " 'score': 696,\n",
       " 'crawl_date': '2016-08-18 13:43:49',\n",
       " 'hashtag_text': 'beautiful shahidkapoor Mirah',\n",
       " 'tweet_text': 'MIRAH RAJPUT is so luckyyyy!pretty pretty beauty beauty.#beautiful #shahidkapoor #Mirah'}"
      ]
     },
     "execution_count": 10,
     "metadata": {},
     "output_type": "execute_result"
    }
   ],
   "source": [
    "tweet_dict['0x2e4bae'] ##Carriage return \\r example removed"
   ]
  },
  {
   "cell_type": "code",
   "execution_count": 11,
   "metadata": {},
   "outputs": [
    {
     "data": {
      "text/plain": [
       "1867535"
      ]
     },
     "execution_count": 11,
     "metadata": {},
     "output_type": "execute_result"
    }
   ],
   "source": [
    "len(list(tweet_dict.keys()))"
   ]
  },
  {
   "cell_type": "markdown",
   "metadata": {},
   "source": [
    "Next, we must write to the *train.csv* amd *test.csv* files we created. We use the *data_identification.csv* file entries to determine where to write each dictionary in *tweet_dict*, specificially, each *tweet_id* entry in the *data_identification.csv* is used as key to index the *tweet_dict* dictionary and write to the appropriate csv file. "
   ]
  },
  {
   "cell_type": "code",
   "execution_count": 12,
   "metadata": {},
   "outputs": [],
   "source": [
    "def CSV_writer(tweet_dict):\n",
    "    ##First open the relevant csv files either in reading or writing mode\n",
    "    #Open the data_identification.csv in reading mode:\n",
    "    dataID_file = open(\"./data/data_identification.csv\", 'r');\n",
    "    dataID_reader = csv.reader(dataID_file);\n",
    "    next(dataID_reader); #['tweet_id', 'identification'] \n",
    "\n",
    "    #Open the train.csv and test.csv in writing mode\n",
    "    train_file = open(\"./train.csv\", 'w', newline='');\n",
    "    train_writer = csv.writer(train_file);\n",
    "    test_file  = open(\"./test.csv\", 'w', newline=''); \n",
    "    test_writer = csv.writer(test_file);\n",
    "\n",
    "    #Counter for each type of entry. We later verify that the sum of the counters is equal to the total number of examples\n",
    "    train_count = 0;\n",
    "    test_count  = 0;\n",
    "    data_count =  0;\n",
    "\n",
    "    ##Write the header to each file \n",
    "    header = ['tweet_id','tweet_text','hashtag_text','crawl_date','score'];\n",
    "    train_writer.writerow(header);\n",
    "    test_writer.writerow(header);\n",
    "\n",
    "    ##Write each dictionary entry into either train.csv or test.csv\n",
    "    keys = ['tweet_id','tweet_text','hashtag_text','crawl_date','score'];\n",
    "    for row in dataID_reader:\n",
    "        key = str(row[0]);\n",
    "        target_csv = str(row[1]);\n",
    "        tweet = tweet_dict[key]; \n",
    "\n",
    "        data = [];\n",
    "        for k in keys:\n",
    "            data.append(tweet[k]);\n",
    "\n",
    "        if target_csv == 'train':\n",
    "            train_writer.writerow(data);\n",
    "            train_count += 1;\n",
    "        elif target_csv == 'test':\n",
    "            test_writer.writerow(data);\n",
    "            test_count += 1;\n",
    "    \n",
    "    print(\"Processed \" + str(train_count) + \" training examples \");\n",
    "    print(\"Processed \" + str(test_count)  + \" test examples \")\n",
    "    print(\"Processed \" + str(train_count+test_count) + \" total examples\")\n",
    "    ##Close the files\n",
    "    dataID_file.close();\n",
    "    train_file.close();\n",
    "    test_file.close();\n"
   ]
  },
  {
   "cell_type": "code",
   "execution_count": 13,
   "metadata": {},
   "outputs": [
    {
     "name": "stdout",
     "output_type": "stream",
     "text": [
      "Processed 1455563 training examples \n",
      "Processed 411972 test examples \n",
      "Processed 1867535 total examples\n"
     ]
    }
   ],
   "source": [
    "CSV_writer(tweet_dict);"
   ]
  },
  {
   "cell_type": "markdown",
   "metadata": {},
   "source": [
    "Now we proceed to create our dataframes from the CSV files as we did in the Lab 2 tutorial. We first create the training dataframe:"
   ]
  },
  {
   "cell_type": "code",
   "execution_count": 14,
   "metadata": {},
   "outputs": [
    {
     "name": "stderr",
     "output_type": "stream",
     "text": [
      "/var/folders/qf/_jd53fqs7hn9l98yc6xmfh040000gn/T/ipykernel_96340/4049140103.py:2: DtypeWarning: Columns (4) have mixed types. Specify dtype option on import or set low_memory=False.\n",
      "  train_df = pd.read_csv(\"./train.csv\",header=None, names=['tweet_id','tweet_text','hashtag_text','crawl_date','score'])\n"
     ]
    }
   ],
   "source": [
    "### Training data dataframe\n",
    "train_df = pd.read_csv(\"./train.csv\",header=None, names=['tweet_id','tweet_text','hashtag_text','crawl_date','score'])\n",
    "train_df.drop([0], inplace = True); #Drop the header"
   ]
  },
  {
   "cell_type": "code",
   "execution_count": 15,
   "metadata": {},
   "outputs": [
    {
     "data": {
      "text/html": [
       "<div>\n",
       "<style scoped>\n",
       "    .dataframe tbody tr th:only-of-type {\n",
       "        vertical-align: middle;\n",
       "    }\n",
       "\n",
       "    .dataframe tbody tr th {\n",
       "        vertical-align: top;\n",
       "    }\n",
       "\n",
       "    .dataframe thead th {\n",
       "        text-align: right;\n",
       "    }\n",
       "</style>\n",
       "<table border=\"1\" class=\"dataframe\">\n",
       "  <thead>\n",
       "    <tr style=\"text-align: right;\">\n",
       "      <th></th>\n",
       "      <th>tweet_id</th>\n",
       "      <th>tweet_text</th>\n",
       "      <th>hashtag_text</th>\n",
       "      <th>crawl_date</th>\n",
       "      <th>score</th>\n",
       "    </tr>\n",
       "  </thead>\n",
       "  <tbody>\n",
       "    <tr>\n",
       "      <th>1</th>\n",
       "      <td>0x29e452</td>\n",
       "      <td>Huge Respect🖒 @JohnnyVegasReal talking about l...</td>\n",
       "      <td></td>\n",
       "      <td>2015-01-17 03:07:03</td>\n",
       "      <td>809</td>\n",
       "    </tr>\n",
       "    <tr>\n",
       "      <th>2</th>\n",
       "      <td>0x2b3819</td>\n",
       "      <td>Yoooo we hit all our monthly goals with the ne...</td>\n",
       "      <td>spateradio app</td>\n",
       "      <td>2016-07-02 09:34:06</td>\n",
       "      <td>808</td>\n",
       "    </tr>\n",
       "    <tr>\n",
       "      <th>3</th>\n",
       "      <td>0x2a2acc</td>\n",
       "      <td>@KIDSNTS @PICU_BCH @uhbcomms @BWCHBoss Well do...</td>\n",
       "      <td></td>\n",
       "      <td>2016-08-15 18:18:39</td>\n",
       "      <td>16</td>\n",
       "    </tr>\n",
       "    <tr>\n",
       "      <th>4</th>\n",
       "      <td>0x2a8830</td>\n",
       "      <td>Come join @ambushman27 on #PUBG while he striv...</td>\n",
       "      <td>PUBG GamersUnite twitch BeHealthy StayPositive...</td>\n",
       "      <td>2017-02-11 08:49:46</td>\n",
       "      <td>768</td>\n",
       "    </tr>\n",
       "    <tr>\n",
       "      <th>5</th>\n",
       "      <td>0x20b21d</td>\n",
       "      <td>@fanshixieen2014 Blessings!My #strength little...</td>\n",
       "      <td>strength bones God</td>\n",
       "      <td>2016-11-23 05:37:10</td>\n",
       "      <td>70</td>\n",
       "    </tr>\n",
       "  </tbody>\n",
       "</table>\n",
       "</div>"
      ],
      "text/plain": [
       "   tweet_id                                         tweet_text  \\\n",
       "1  0x29e452  Huge Respect🖒 @JohnnyVegasReal talking about l...   \n",
       "2  0x2b3819  Yoooo we hit all our monthly goals with the ne...   \n",
       "3  0x2a2acc  @KIDSNTS @PICU_BCH @uhbcomms @BWCHBoss Well do...   \n",
       "4  0x2a8830  Come join @ambushman27 on #PUBG while he striv...   \n",
       "5  0x20b21d  @fanshixieen2014 Blessings!My #strength little...   \n",
       "\n",
       "                                        hashtag_text           crawl_date  \\\n",
       "1                                                     2015-01-17 03:07:03   \n",
       "2                                     spateradio app  2016-07-02 09:34:06   \n",
       "3                                                     2016-08-15 18:18:39   \n",
       "4  PUBG GamersUnite twitch BeHealthy StayPositive...  2017-02-11 08:49:46   \n",
       "5                                 strength bones God  2016-11-23 05:37:10   \n",
       "\n",
       "  score  \n",
       "1   809  \n",
       "2   808  \n",
       "3    16  \n",
       "4   768  \n",
       "5    70  "
      ]
     },
     "execution_count": 15,
     "metadata": {},
     "output_type": "execute_result"
    }
   ],
   "source": [
    "train_df.head()"
   ]
  },
  {
   "cell_type": "markdown",
   "metadata": {},
   "source": [
    "Let's check the length of the training dataframe:"
   ]
  },
  {
   "cell_type": "code",
   "execution_count": 16,
   "metadata": {},
   "outputs": [
    {
     "data": {
      "text/plain": [
       "(1455563, 5)"
      ]
     },
     "execution_count": 16,
     "metadata": {},
     "output_type": "execute_result"
    }
   ],
   "source": [
    "train_df.shape"
   ]
  },
  {
   "cell_type": "markdown",
   "metadata": {},
   "source": [
    "Next, let's check the memory usage of the training dataframe and the datatypes of each attribute:"
   ]
  },
  {
   "cell_type": "code",
   "execution_count": 17,
   "metadata": {},
   "outputs": [
    {
     "name": "stdout",
     "output_type": "stream",
     "text": [
      "<class 'pandas.core.frame.DataFrame'>\n",
      "RangeIndex: 1455563 entries, 1 to 1455563\n",
      "Data columns (total 5 columns):\n",
      " #   Column        Non-Null Count    Dtype \n",
      "---  ------        --------------    ----- \n",
      " 0   tweet_id      1455563 non-null  object\n",
      " 1   tweet_text    1455563 non-null  object\n",
      " 2   hashtag_text  1455559 non-null  object\n",
      " 3   crawl_date    1455563 non-null  object\n",
      " 4   score         1455563 non-null  object\n",
      "dtypes: object(5)\n",
      "memory usage: 632.2 MB\n"
     ]
    }
   ],
   "source": [
    "train_df.info(memory_usage='deep')"
   ]
  },
  {
   "cell_type": "markdown",
   "metadata": {},
   "source": [
    "The training dataframe is missing the *target_emotion* column which is crucial for our model to learn the emotion corresponding to each tweet. We then create a separate dataframe from the *emotion.csv* file and merge it to our training dataframe on the *tweet_id* column:  "
   ]
  },
  {
   "cell_type": "code",
   "execution_count": 18,
   "metadata": {},
   "outputs": [
    {
     "data": {
      "text/html": [
       "<div>\n",
       "<style scoped>\n",
       "    .dataframe tbody tr th:only-of-type {\n",
       "        vertical-align: middle;\n",
       "    }\n",
       "\n",
       "    .dataframe tbody tr th {\n",
       "        vertical-align: top;\n",
       "    }\n",
       "\n",
       "    .dataframe thead th {\n",
       "        text-align: right;\n",
       "    }\n",
       "</style>\n",
       "<table border=\"1\" class=\"dataframe\">\n",
       "  <thead>\n",
       "    <tr style=\"text-align: right;\">\n",
       "      <th></th>\n",
       "      <th>tweet_id</th>\n",
       "      <th>target_emotion</th>\n",
       "    </tr>\n",
       "  </thead>\n",
       "  <tbody>\n",
       "    <tr>\n",
       "      <th>1</th>\n",
       "      <td>0x3140b1</td>\n",
       "      <td>sadness</td>\n",
       "    </tr>\n",
       "    <tr>\n",
       "      <th>2</th>\n",
       "      <td>0x368b73</td>\n",
       "      <td>disgust</td>\n",
       "    </tr>\n",
       "    <tr>\n",
       "      <th>3</th>\n",
       "      <td>0x296183</td>\n",
       "      <td>anticipation</td>\n",
       "    </tr>\n",
       "    <tr>\n",
       "      <th>4</th>\n",
       "      <td>0x2bd6e1</td>\n",
       "      <td>joy</td>\n",
       "    </tr>\n",
       "    <tr>\n",
       "      <th>5</th>\n",
       "      <td>0x2ee1dd</td>\n",
       "      <td>anticipation</td>\n",
       "    </tr>\n",
       "    <tr>\n",
       "      <th>6</th>\n",
       "      <td>0x34cd80</td>\n",
       "      <td>joy</td>\n",
       "    </tr>\n",
       "    <tr>\n",
       "      <th>7</th>\n",
       "      <td>0x33f099</td>\n",
       "      <td>sadness</td>\n",
       "    </tr>\n",
       "    <tr>\n",
       "      <th>8</th>\n",
       "      <td>0x2ae7b7</td>\n",
       "      <td>sadness</td>\n",
       "    </tr>\n",
       "    <tr>\n",
       "      <th>9</th>\n",
       "      <td>0x2408d4</td>\n",
       "      <td>trust</td>\n",
       "    </tr>\n",
       "    <tr>\n",
       "      <th>10</th>\n",
       "      <td>0x2b193b</td>\n",
       "      <td>sadness</td>\n",
       "    </tr>\n",
       "  </tbody>\n",
       "</table>\n",
       "</div>"
      ],
      "text/plain": [
       "    tweet_id target_emotion\n",
       "1   0x3140b1        sadness\n",
       "2   0x368b73        disgust\n",
       "3   0x296183   anticipation\n",
       "4   0x2bd6e1            joy\n",
       "5   0x2ee1dd   anticipation\n",
       "6   0x34cd80            joy\n",
       "7   0x33f099        sadness\n",
       "8   0x2ae7b7        sadness\n",
       "9   0x2408d4          trust\n",
       "10  0x2b193b        sadness"
      ]
     },
     "execution_count": 18,
     "metadata": {},
     "output_type": "execute_result"
    }
   ],
   "source": [
    "emotion_df = pd.read_csv(\"./data/emotion.csv\",header=None, names=['tweet_id','target_emotion']);\n",
    "emotion_df.drop([0], inplace = True);\n",
    "emotion_df.head(10)"
   ]
  },
  {
   "cell_type": "markdown",
   "metadata": {},
   "source": [
    "Next, as with the training dataframe, let's check the length and memory usage of the emotion dataframe:"
   ]
  },
  {
   "cell_type": "code",
   "execution_count": 19,
   "metadata": {},
   "outputs": [
    {
     "data": {
      "text/plain": [
       "(1455563, 2)"
      ]
     },
     "execution_count": 19,
     "metadata": {},
     "output_type": "execute_result"
    }
   ],
   "source": [
    "emotion_df.shape"
   ]
  },
  {
   "cell_type": "code",
   "execution_count": 20,
   "metadata": {},
   "outputs": [
    {
     "name": "stdout",
     "output_type": "stream",
     "text": [
      "<class 'pandas.core.frame.DataFrame'>\n",
      "RangeIndex: 1455563 entries, 1 to 1455563\n",
      "Data columns (total 2 columns):\n",
      " #   Column          Non-Null Count    Dtype \n",
      "---  ------          --------------    ----- \n",
      " 0   tweet_id        1455563 non-null  object\n",
      " 1   target_emotion  1455563 non-null  object\n",
      "dtypes: object(2)\n",
      "memory usage: 177.7 MB\n"
     ]
    }
   ],
   "source": [
    "emotion_df.info(memory_usage='deep')"
   ]
  },
  {
   "cell_type": "markdown",
   "metadata": {},
   "source": [
    "The *memory usage* parameter set to *deep*, provides a better approximation of the memory usage of the system. Since the memory usage of our combined dataframes does not even reach 1 GB, we don't need to perform any memory reduction techniques. We proceed to merge our dataframes on the tweet_id column as follows: "
   ]
  },
  {
   "cell_type": "markdown",
   "metadata": {},
   "source": [
    "First, let's cast the *tweet_id* column of each dataframe to string, reset the indices and sort the values in ascending order to make sure both columns have exactly the same values:"
   ]
  },
  {
   "cell_type": "code",
   "execution_count": 21,
   "metadata": {},
   "outputs": [],
   "source": [
    "##Casting each column to string\n",
    "emotion_df['tweet_id'] = emotion_df['tweet_id'].astype('string')\n",
    "train_df['tweet_id'] = train_df['tweet_id'].astype('string')\n",
    "train_df['tweet_text'] = train_df['tweet_text'].astype('string')\n",
    "\n",
    "##Sorting and resetting the indices\n",
    "emotion_df = emotion_df.sort_values(by = [\"tweet_id\"]);\n",
    "emotion_df = emotion_df.reset_index(drop = True)\n",
    "\n",
    "train_df = train_df.sort_values(by = [\"tweet_id\"]);\n",
    "train_df = train_df.reset_index(drop = True)"
   ]
  },
  {
   "cell_type": "code",
   "execution_count": 22,
   "metadata": {},
   "outputs": [
    {
     "data": {
      "text/html": [
       "<div>\n",
       "<style scoped>\n",
       "    .dataframe tbody tr th:only-of-type {\n",
       "        vertical-align: middle;\n",
       "    }\n",
       "\n",
       "    .dataframe tbody tr th {\n",
       "        vertical-align: top;\n",
       "    }\n",
       "\n",
       "    .dataframe thead th {\n",
       "        text-align: right;\n",
       "    }\n",
       "</style>\n",
       "<table border=\"1\" class=\"dataframe\">\n",
       "  <thead>\n",
       "    <tr style=\"text-align: right;\">\n",
       "      <th></th>\n",
       "      <th>tweet_id</th>\n",
       "      <th>tweet_text</th>\n",
       "      <th>hashtag_text</th>\n",
       "      <th>crawl_date</th>\n",
       "      <th>score</th>\n",
       "    </tr>\n",
       "  </thead>\n",
       "  <tbody>\n",
       "    <tr>\n",
       "      <th>0</th>\n",
       "      <td>0x1c7f10</td>\n",
       "      <td>o m g Shut Up And Dance though #BlackMirror &lt;LH&gt;</td>\n",
       "      <td>BlackMirror</td>\n",
       "      <td>2015-05-16 10:36:47</td>\n",
       "      <td>242</td>\n",
       "    </tr>\n",
       "    <tr>\n",
       "      <th>1</th>\n",
       "      <td>0x1c7f11</td>\n",
       "      <td>On #twitch &lt;LH&gt; on the #Destinybeta #Destiny #...</td>\n",
       "      <td>twitch Destinybeta Destiny Destiny2 Destinythe...</td>\n",
       "      <td>2016-10-15 20:46:37</td>\n",
       "      <td>915</td>\n",
       "    </tr>\n",
       "    <tr>\n",
       "      <th>2</th>\n",
       "      <td>0x1c7f14</td>\n",
       "      <td>A nice sunny wak this morning not many &lt;LH&gt; ar...</td>\n",
       "      <td></td>\n",
       "      <td>2016-07-04 07:22:56</td>\n",
       "      <td>939</td>\n",
       "    </tr>\n",
       "    <tr>\n",
       "      <th>3</th>\n",
       "      <td>0x1c7f15</td>\n",
       "      <td>I'm one of those people who love candy corn......</td>\n",
       "      <td>Confession NationalCandyCornDay CouldEatThemAl...</td>\n",
       "      <td>2016-04-16 12:53:40</td>\n",
       "      <td>181</td>\n",
       "    </tr>\n",
       "    <tr>\n",
       "      <th>4</th>\n",
       "      <td>0x1c7f16</td>\n",
       "      <td>@metmuseum What are these? They look like some...</td>\n",
       "      <td></td>\n",
       "      <td>2017-04-22 17:50:28</td>\n",
       "      <td>970</td>\n",
       "    </tr>\n",
       "  </tbody>\n",
       "</table>\n",
       "</div>"
      ],
      "text/plain": [
       "   tweet_id                                         tweet_text  \\\n",
       "0  0x1c7f10   o m g Shut Up And Dance though #BlackMirror <LH>   \n",
       "1  0x1c7f11  On #twitch <LH> on the #Destinybeta #Destiny #...   \n",
       "2  0x1c7f14  A nice sunny wak this morning not many <LH> ar...   \n",
       "3  0x1c7f15  I'm one of those people who love candy corn......   \n",
       "4  0x1c7f16  @metmuseum What are these? They look like some...   \n",
       "\n",
       "                                        hashtag_text           crawl_date  \\\n",
       "0                                        BlackMirror  2015-05-16 10:36:47   \n",
       "1  twitch Destinybeta Destiny Destiny2 Destinythe...  2016-10-15 20:46:37   \n",
       "2                                                     2016-07-04 07:22:56   \n",
       "3  Confession NationalCandyCornDay CouldEatThemAl...  2016-04-16 12:53:40   \n",
       "4                                                     2017-04-22 17:50:28   \n",
       "\n",
       "  score  \n",
       "0   242  \n",
       "1   915  \n",
       "2   939  \n",
       "3   181  \n",
       "4   970  "
      ]
     },
     "execution_count": 22,
     "metadata": {},
     "output_type": "execute_result"
    }
   ],
   "source": [
    "train_df.head(5)"
   ]
  },
  {
   "cell_type": "code",
   "execution_count": 23,
   "metadata": {},
   "outputs": [
    {
     "data": {
      "text/html": [
       "<div>\n",
       "<style scoped>\n",
       "    .dataframe tbody tr th:only-of-type {\n",
       "        vertical-align: middle;\n",
       "    }\n",
       "\n",
       "    .dataframe tbody tr th {\n",
       "        vertical-align: top;\n",
       "    }\n",
       "\n",
       "    .dataframe thead th {\n",
       "        text-align: right;\n",
       "    }\n",
       "</style>\n",
       "<table border=\"1\" class=\"dataframe\">\n",
       "  <thead>\n",
       "    <tr style=\"text-align: right;\">\n",
       "      <th></th>\n",
       "      <th>tweet_id</th>\n",
       "      <th>target_emotion</th>\n",
       "    </tr>\n",
       "  </thead>\n",
       "  <tbody>\n",
       "    <tr>\n",
       "      <th>0</th>\n",
       "      <td>0x1c7f10</td>\n",
       "      <td>joy</td>\n",
       "    </tr>\n",
       "    <tr>\n",
       "      <th>1</th>\n",
       "      <td>0x1c7f11</td>\n",
       "      <td>anticipation</td>\n",
       "    </tr>\n",
       "    <tr>\n",
       "      <th>2</th>\n",
       "      <td>0x1c7f14</td>\n",
       "      <td>joy</td>\n",
       "    </tr>\n",
       "    <tr>\n",
       "      <th>3</th>\n",
       "      <td>0x1c7f15</td>\n",
       "      <td>joy</td>\n",
       "    </tr>\n",
       "    <tr>\n",
       "      <th>4</th>\n",
       "      <td>0x1c7f16</td>\n",
       "      <td>disgust</td>\n",
       "    </tr>\n",
       "  </tbody>\n",
       "</table>\n",
       "</div>"
      ],
      "text/plain": [
       "   tweet_id target_emotion\n",
       "0  0x1c7f10            joy\n",
       "1  0x1c7f11   anticipation\n",
       "2  0x1c7f14            joy\n",
       "3  0x1c7f15            joy\n",
       "4  0x1c7f16        disgust"
      ]
     },
     "execution_count": 23,
     "metadata": {},
     "output_type": "execute_result"
    }
   ],
   "source": [
    "emotion_df.head(5)"
   ]
  },
  {
   "cell_type": "markdown",
   "metadata": {},
   "source": [
    "Let's check if both columns are the same:"
   ]
  },
  {
   "cell_type": "code",
   "execution_count": 24,
   "metadata": {},
   "outputs": [
    {
     "name": "stdout",
     "output_type": "stream",
     "text": [
      "True\n"
     ]
    }
   ],
   "source": [
    "print(train_df['tweet_id'].equals(emotion_df['tweet_id']))"
   ]
  },
  {
   "cell_type": "markdown",
   "metadata": {},
   "source": [
    "Now, let's merge both dataframes into a single training dataframe:"
   ]
  },
  {
   "cell_type": "code",
   "execution_count": 25,
   "metadata": {},
   "outputs": [
    {
     "data": {
      "text/html": [
       "<div>\n",
       "<style scoped>\n",
       "    .dataframe tbody tr th:only-of-type {\n",
       "        vertical-align: middle;\n",
       "    }\n",
       "\n",
       "    .dataframe tbody tr th {\n",
       "        vertical-align: top;\n",
       "    }\n",
       "\n",
       "    .dataframe thead th {\n",
       "        text-align: right;\n",
       "    }\n",
       "</style>\n",
       "<table border=\"1\" class=\"dataframe\">\n",
       "  <thead>\n",
       "    <tr style=\"text-align: right;\">\n",
       "      <th></th>\n",
       "      <th>tweet_id</th>\n",
       "      <th>tweet_text</th>\n",
       "      <th>hashtag_text</th>\n",
       "      <th>crawl_date</th>\n",
       "      <th>score</th>\n",
       "      <th>target_emotion</th>\n",
       "    </tr>\n",
       "  </thead>\n",
       "  <tbody>\n",
       "    <tr>\n",
       "      <th>0</th>\n",
       "      <td>0x1c7f10</td>\n",
       "      <td>o m g Shut Up And Dance though #BlackMirror &lt;LH&gt;</td>\n",
       "      <td>BlackMirror</td>\n",
       "      <td>2015-05-16 10:36:47</td>\n",
       "      <td>242</td>\n",
       "      <td>joy</td>\n",
       "    </tr>\n",
       "    <tr>\n",
       "      <th>1</th>\n",
       "      <td>0x1c7f11</td>\n",
       "      <td>On #twitch &lt;LH&gt; on the #Destinybeta #Destiny #...</td>\n",
       "      <td>twitch Destinybeta Destiny Destiny2 Destinythe...</td>\n",
       "      <td>2016-10-15 20:46:37</td>\n",
       "      <td>915</td>\n",
       "      <td>anticipation</td>\n",
       "    </tr>\n",
       "    <tr>\n",
       "      <th>2</th>\n",
       "      <td>0x1c7f14</td>\n",
       "      <td>A nice sunny wak this morning not many &lt;LH&gt; ar...</td>\n",
       "      <td></td>\n",
       "      <td>2016-07-04 07:22:56</td>\n",
       "      <td>939</td>\n",
       "      <td>joy</td>\n",
       "    </tr>\n",
       "    <tr>\n",
       "      <th>3</th>\n",
       "      <td>0x1c7f15</td>\n",
       "      <td>I'm one of those people who love candy corn......</td>\n",
       "      <td>Confession NationalCandyCornDay CouldEatThemAl...</td>\n",
       "      <td>2016-04-16 12:53:40</td>\n",
       "      <td>181</td>\n",
       "      <td>joy</td>\n",
       "    </tr>\n",
       "    <tr>\n",
       "      <th>4</th>\n",
       "      <td>0x1c7f16</td>\n",
       "      <td>@metmuseum What are these? They look like some...</td>\n",
       "      <td></td>\n",
       "      <td>2017-04-22 17:50:28</td>\n",
       "      <td>970</td>\n",
       "      <td>disgust</td>\n",
       "    </tr>\n",
       "    <tr>\n",
       "      <th>5</th>\n",
       "      <td>0x1c7f19</td>\n",
       "      <td>Postive thinking is the only way to go followe...</td>\n",
       "      <td>LawOfAttraction ask receive dreambig</td>\n",
       "      <td>2017-08-19 23:08:46</td>\n",
       "      <td>678</td>\n",
       "      <td>anticipation</td>\n",
       "    </tr>\n",
       "    <tr>\n",
       "      <th>6</th>\n",
       "      <td>0x1c7f1a</td>\n",
       "      <td>Best Check I’ve had this year &lt;LH&gt; 👀🙏🙏</td>\n",
       "      <td></td>\n",
       "      <td>2015-10-08 03:43:33</td>\n",
       "      <td>314</td>\n",
       "      <td>joy</td>\n",
       "    </tr>\n",
       "    <tr>\n",
       "      <th>7</th>\n",
       "      <td>0x1c7f1b</td>\n",
       "      <td>Have not eaten since yesterday &lt;LH&gt;</td>\n",
       "      <td></td>\n",
       "      <td>2017-06-06 17:38:13</td>\n",
       "      <td>232</td>\n",
       "      <td>anticipation</td>\n",
       "    </tr>\n",
       "    <tr>\n",
       "      <th>8</th>\n",
       "      <td>0x1c7f1c</td>\n",
       "      <td>Glad to know that Ahmedabad has been declared ...</td>\n",
       "      <td>World</td>\n",
       "      <td>2015-03-02 22:19:51</td>\n",
       "      <td>870</td>\n",
       "      <td>trust</td>\n",
       "    </tr>\n",
       "    <tr>\n",
       "      <th>9</th>\n",
       "      <td>0x1c7f1d</td>\n",
       "      <td>John 15:9 As the Father has loved me, so have ...</td>\n",
       "      <td>scriptureverse</td>\n",
       "      <td>2015-11-05 07:59:02</td>\n",
       "      <td>522</td>\n",
       "      <td>joy</td>\n",
       "    </tr>\n",
       "  </tbody>\n",
       "</table>\n",
       "</div>"
      ],
      "text/plain": [
       "   tweet_id                                         tweet_text  \\\n",
       "0  0x1c7f10   o m g Shut Up And Dance though #BlackMirror <LH>   \n",
       "1  0x1c7f11  On #twitch <LH> on the #Destinybeta #Destiny #...   \n",
       "2  0x1c7f14  A nice sunny wak this morning not many <LH> ar...   \n",
       "3  0x1c7f15  I'm one of those people who love candy corn......   \n",
       "4  0x1c7f16  @metmuseum What are these? They look like some...   \n",
       "5  0x1c7f19  Postive thinking is the only way to go followe...   \n",
       "6  0x1c7f1a             Best Check I’ve had this year <LH> 👀🙏🙏   \n",
       "7  0x1c7f1b                Have not eaten since yesterday <LH>   \n",
       "8  0x1c7f1c  Glad to know that Ahmedabad has been declared ...   \n",
       "9  0x1c7f1d  John 15:9 As the Father has loved me, so have ...   \n",
       "\n",
       "                                        hashtag_text           crawl_date  \\\n",
       "0                                        BlackMirror  2015-05-16 10:36:47   \n",
       "1  twitch Destinybeta Destiny Destiny2 Destinythe...  2016-10-15 20:46:37   \n",
       "2                                                     2016-07-04 07:22:56   \n",
       "3  Confession NationalCandyCornDay CouldEatThemAl...  2016-04-16 12:53:40   \n",
       "4                                                     2017-04-22 17:50:28   \n",
       "5               LawOfAttraction ask receive dreambig  2017-08-19 23:08:46   \n",
       "6                                                     2015-10-08 03:43:33   \n",
       "7                                                     2017-06-06 17:38:13   \n",
       "8                                              World  2015-03-02 22:19:51   \n",
       "9                                     scriptureverse  2015-11-05 07:59:02   \n",
       "\n",
       "  score target_emotion  \n",
       "0   242            joy  \n",
       "1   915   anticipation  \n",
       "2   939            joy  \n",
       "3   181            joy  \n",
       "4   970        disgust  \n",
       "5   678   anticipation  \n",
       "6   314            joy  \n",
       "7   232   anticipation  \n",
       "8   870          trust  \n",
       "9   522            joy  "
      ]
     },
     "execution_count": 25,
     "metadata": {},
     "output_type": "execute_result"
    }
   ],
   "source": [
    "train_df = train_df.merge(emotion_df, on = 'tweet_id', how = 'left')\n",
    "train_df.head(10)"
   ]
  },
  {
   "cell_type": "code",
   "execution_count": 26,
   "metadata": {},
   "outputs": [
    {
     "name": "stdout",
     "output_type": "stream",
     "text": [
      "<class 'pandas.core.frame.DataFrame'>\n",
      "RangeIndex: 1455563 entries, 0 to 1455562\n",
      "Data columns (total 6 columns):\n",
      " #   Column          Non-Null Count    Dtype \n",
      "---  ------          --------------    ----- \n",
      " 0   tweet_id        1455563 non-null  string\n",
      " 1   tweet_text      1455563 non-null  string\n",
      " 2   hashtag_text    1455559 non-null  object\n",
      " 3   crawl_date      1455563 non-null  object\n",
      " 4   score           1455563 non-null  object\n",
      " 5   target_emotion  1455563 non-null  object\n",
      "dtypes: object(4), string(2)\n",
      "memory usage: 719.6 MB\n"
     ]
    }
   ],
   "source": [
    "##Check the memory usage of the new train df\n",
    "train_df.info(memory_usage='deep')"
   ]
  },
  {
   "cell_type": "markdown",
   "metadata": {},
   "source": [
    "#### 1.3 Exploratory Data Analysis"
   ]
  },
  {
   "cell_type": "markdown",
   "metadata": {},
   "source": [
    "As in Lab #2, let's check how balanced are the classes in the emotion dataframe:"
   ]
  },
  {
   "cell_type": "code",
   "execution_count": 27,
   "metadata": {},
   "outputs": [
    {
     "data": {
      "text/plain": [
       "target_emotion\n",
       "anger            39867\n",
       "anticipation    248935\n",
       "disgust         139101\n",
       "fear             63999\n",
       "joy             516017\n",
       "sadness         193437\n",
       "surprise         48729\n",
       "trust           205478\n",
       "Name: tweet_id, dtype: int64"
      ]
     },
     "execution_count": 27,
     "metadata": {},
     "output_type": "execute_result"
    }
   ],
   "source": [
    "emotion_df.groupby(['target_emotion']).count()['tweet_id']"
   ]
  },
  {
   "cell_type": "code",
   "execution_count": 28,
   "metadata": {},
   "outputs": [
    {
     "data": {
      "image/png": "[encoded data removed]",
      "text/plain": [
       "<Figure size 1000x300 with 1 Axes>"
      ]
     },
     "metadata": {},
     "output_type": "display_data"
    }
   ],
   "source": [
    "%matplotlib inline\n",
    "import numpy as np\n",
    "import matplotlib.pyplot as plt\n",
    "\n",
    "# the histogram of the data\n",
    "labels = emotion_df['target_emotion'].unique()\n",
    "post_total = len(emotion_df)\n",
    "df1 = emotion_df.groupby(['target_emotion']).count()['tweet_id']\n",
    "df1 = df1.apply(lambda x: round(x*100/post_total,3))\n",
    "\n",
    "#plot\n",
    "fig, ax = plt.subplots(figsize=(10,3))\n",
    "plt.bar(df1.index,df1.values)\n",
    "\n",
    "#arrange\n",
    "plt.ylabel('% of instances')\n",
    "plt.xlabel('Emotion')\n",
    "plt.title('Emotion distribution')\n",
    "plt.grid(True)\n",
    "plt.show()"
   ]
  },
  {
   "cell_type": "markdown",
   "metadata": {},
   "source": [
    "The tweets seem to be biased towards joyful feelings. This is great in the sense that our dataset is dominated by positive feelings but bad for our model since the classes are quite unbalanced. We will sample our dataset to have a more balanced number of examples and use this reduced training dataset to train our model. We first shuffle our dataset and then sample it accordingly:"
   ]
  },
  {
   "cell_type": "code",
   "execution_count": 29,
   "metadata": {},
   "outputs": [
    {
     "data": {
      "text/html": [
       "<div>\n",
       "<style scoped>\n",
       "    .dataframe tbody tr th:only-of-type {\n",
       "        vertical-align: middle;\n",
       "    }\n",
       "\n",
       "    .dataframe tbody tr th {\n",
       "        vertical-align: top;\n",
       "    }\n",
       "\n",
       "    .dataframe thead th {\n",
       "        text-align: right;\n",
       "    }\n",
       "</style>\n",
       "<table border=\"1\" class=\"dataframe\">\n",
       "  <thead>\n",
       "    <tr style=\"text-align: right;\">\n",
       "      <th></th>\n",
       "      <th>tweet_id</th>\n",
       "      <th>tweet_text</th>\n",
       "      <th>hashtag_text</th>\n",
       "      <th>crawl_date</th>\n",
       "      <th>score</th>\n",
       "      <th>target_emotion</th>\n",
       "    </tr>\n",
       "  </thead>\n",
       "  <tbody>\n",
       "    <tr>\n",
       "      <th>461576</th>\n",
       "      <td>0x258855</td>\n",
       "      <td>@ewnreporter Highly favoured by God...#blessed...</td>\n",
       "      <td></td>\n",
       "      <td>2015-05-01 14:10:17</td>\n",
       "      <td>856</td>\n",
       "      <td>joy</td>\n",
       "    </tr>\n",
       "    <tr>\n",
       "      <th>800903</th>\n",
       "      <td>0x2c2e95</td>\n",
       "      <td>I hated school, but I miss it now. &lt;LH&gt;</td>\n",
       "      <td></td>\n",
       "      <td>2017-02-08 14:26:27</td>\n",
       "      <td>845</td>\n",
       "      <td>joy</td>\n",
       "    </tr>\n",
       "    <tr>\n",
       "      <th>311642</th>\n",
       "      <td>0x2298d1</td>\n",
       "      <td>@NARAL @SenSchumer &lt;LH&gt; on the #GOP for being ...</td>\n",
       "      <td>GOP</td>\n",
       "      <td>2015-11-15 13:09:35</td>\n",
       "      <td>283</td>\n",
       "      <td>disgust</td>\n",
       "    </tr>\n",
       "    <tr>\n",
       "      <th>21075</th>\n",
       "      <td>0x1ce918</td>\n",
       "      <td>@Uber no one has still gotten back to me over ...</td>\n",
       "      <td>neglect badcustomerservice</td>\n",
       "      <td>2015-10-05 13:15:38</td>\n",
       "      <td>351</td>\n",
       "      <td>disgust</td>\n",
       "    </tr>\n",
       "    <tr>\n",
       "      <th>264842</th>\n",
       "      <td>0x21ae69</td>\n",
       "      <td>@CNN &lt;LH&gt; For real sad. This is why we need to...</td>\n",
       "      <td></td>\n",
       "      <td>2015-11-26 07:02:41</td>\n",
       "      <td>971</td>\n",
       "      <td>sadness</td>\n",
       "    </tr>\n",
       "  </tbody>\n",
       "</table>\n",
       "</div>"
      ],
      "text/plain": [
       "        tweet_id                                         tweet_text  \\\n",
       "461576  0x258855  @ewnreporter Highly favoured by God...#blessed...   \n",
       "800903  0x2c2e95            I hated school, but I miss it now. <LH>   \n",
       "311642  0x2298d1  @NARAL @SenSchumer <LH> on the #GOP for being ...   \n",
       "21075   0x1ce918  @Uber no one has still gotten back to me over ...   \n",
       "264842  0x21ae69  @CNN <LH> For real sad. This is why we need to...   \n",
       "\n",
       "                      hashtag_text           crawl_date score target_emotion  \n",
       "461576                              2015-05-01 14:10:17   856            joy  \n",
       "800903                              2017-02-08 14:26:27   845            joy  \n",
       "311642                         GOP  2015-11-15 13:09:35   283        disgust  \n",
       "21075   neglect badcustomerservice  2015-10-05 13:15:38   351        disgust  \n",
       "264842                              2015-11-26 07:02:41   971        sadness  "
      ]
     },
     "execution_count": 29,
     "metadata": {},
     "output_type": "execute_result"
    }
   ],
   "source": [
    "##Let's shuffle the dataset first\n",
    "train_df = train_df.sample(frac=1)\n",
    "train_df.head()"
   ]
  },
  {
   "cell_type": "code",
   "execution_count": 30,
   "metadata": {},
   "outputs": [],
   "source": [
    "### Now let's sample out train dataset with n = 39867 since it is the minimum number of examples found in one of the classes (anger). \n",
    "rtrain_df = train_df.groupby(\"target_emotion\").sample(n=60000, random_state=42, replace=True)"
   ]
  },
  {
   "cell_type": "code",
   "execution_count": 31,
   "metadata": {},
   "outputs": [
    {
     "data": {
      "text/plain": [
       "(480000, 6)"
      ]
     },
     "execution_count": 31,
     "metadata": {},
     "output_type": "execute_result"
    }
   ],
   "source": [
    "rtrain_df.shape"
   ]
  },
  {
   "cell_type": "code",
   "execution_count": 32,
   "metadata": {},
   "outputs": [
    {
     "data": {
      "text/plain": [
       "target_emotion\n",
       "anger           60000\n",
       "anticipation    60000\n",
       "disgust         60000\n",
       "fear            60000\n",
       "joy             60000\n",
       "sadness         60000\n",
       "surprise        60000\n",
       "trust           60000\n",
       "Name: tweet_id, dtype: int64"
      ]
     },
     "execution_count": 32,
     "metadata": {},
     "output_type": "execute_result"
    }
   ],
   "source": [
    "rtrain_df.groupby(['target_emotion']).count()['tweet_id']"
   ]
  },
  {
   "cell_type": "markdown",
   "metadata": {},
   "source": [
    "Now, our classes are more balanced. Then, we notice that some of the hashtag text columns entries are empty. Since they contain valuable information, we don't want to drop them. Instead, we could add them to the *tweet_text* column and then drop the *hashtag_text* column.  "
   ]
  },
  {
   "cell_type": "code",
   "execution_count": 33,
   "metadata": {},
   "outputs": [],
   "source": [
    "###First cast the hashtag text column as string\n",
    "rtrain_df['hashtag_text'] = rtrain_df['hashtag_text']"
   ]
  },
  {
   "cell_type": "code",
   "execution_count": 34,
   "metadata": {},
   "outputs": [],
   "source": [
    "###Next, we add the hashtag_text to the tweet_text column \n",
    "rtrain_df['tweet_text'] = rtrain_df['tweet_text'] + rtrain_df['hashtag_text']\n",
    "rtrain_df['tweet_text'] = rtrain_df['tweet_text'].astype('string')"
   ]
  },
  {
   "cell_type": "code",
   "execution_count": 35,
   "metadata": {},
   "outputs": [],
   "source": [
    "###Finally, drop the hashtag_text column\n",
    "rtrain_df.drop('hashtag_text', axis=1, inplace=True)"
   ]
  },
  {
   "cell_type": "code",
   "execution_count": 36,
   "metadata": {},
   "outputs": [
    {
     "name": "stdout",
     "output_type": "stream",
     "text": [
      "<class 'pandas.core.frame.DataFrame'>\n",
      "Index: 480000 entries, 227758 to 796533\n",
      "Data columns (total 5 columns):\n",
      " #   Column          Non-Null Count   Dtype \n",
      "---  ------          --------------   ----- \n",
      " 0   tweet_id        480000 non-null  string\n",
      " 1   tweet_text      479999 non-null  string\n",
      " 2   crawl_date      480000 non-null  object\n",
      " 3   score           480000 non-null  object\n",
      " 4   target_emotion  480000 non-null  object\n",
      "dtypes: object(3), string(2)\n",
      "memory usage: 217.0 MB\n"
     ]
    }
   ],
   "source": [
    "rtrain_df.info(memory_usage='deep')"
   ]
  },
  {
   "cell_type": "markdown",
   "metadata": {},
   "source": [
    "Next, the *tweet_text* column has some symbols such as '#','@' or '< LH >'. We want to remove them as they are irrelevant. We preprocess the *tweet_text* column below: "
   ]
  },
  {
   "cell_type": "code",
   "execution_count": 37,
   "metadata": {},
   "outputs": [],
   "source": [
    "rtrain_df['tweet_text'] = rtrain_df['tweet_text'].map(lambda x: str(x).replace('#',''))\n",
    "rtrain_df['tweet_text'] = rtrain_df['tweet_text'].map(lambda x: str(x).replace('@',''))\n",
    "rtrain_df['tweet_text'] = rtrain_df['tweet_text'].map(lambda x: str(x).replace('<LH>',''))\n",
    "\n",
    "def removeLinks(text):\n",
    "    return re.sub(r\"(?:\\@|http?\\://|https?\\://|www)\\S+\", \"\", text)\n",
    "\n",
    "rtrain_df['tweet_text'] = rtrain_df['tweet_text'].apply(removeLinks)"
   ]
  },
  {
   "cell_type": "code",
   "execution_count": 38,
   "metadata": {},
   "outputs": [
    {
     "data": {
      "text/html": [
       "<div>\n",
       "<style scoped>\n",
       "    .dataframe tbody tr th:only-of-type {\n",
       "        vertical-align: middle;\n",
       "    }\n",
       "\n",
       "    .dataframe tbody tr th {\n",
       "        vertical-align: top;\n",
       "    }\n",
       "\n",
       "    .dataframe thead th {\n",
       "        text-align: right;\n",
       "    }\n",
       "</style>\n",
       "<table border=\"1\" class=\"dataframe\">\n",
       "  <thead>\n",
       "    <tr style=\"text-align: right;\">\n",
       "      <th></th>\n",
       "      <th>tweet_id</th>\n",
       "      <th>tweet_text</th>\n",
       "      <th>crawl_date</th>\n",
       "      <th>score</th>\n",
       "      <th>target_emotion</th>\n",
       "    </tr>\n",
       "  </thead>\n",
       "  <tbody>\n",
       "    <tr>\n",
       "      <th>1065862</th>\n",
       "      <td>0x315f47</td>\n",
       "      <td>31 Push the  everyday. Be some special.  Novem...</td>\n",
       "      <td>2017-07-06 09:15:08</td>\n",
       "      <td>380</td>\n",
       "      <td>joy</td>\n",
       "    </tr>\n",
       "    <tr>\n",
       "      <th>52817</th>\n",
       "      <td>0x1d8812</td>\n",
       "      <td>We have Never had a President who picked fight...</td>\n",
       "      <td>2016-01-20 18:16:33</td>\n",
       "      <td>609</td>\n",
       "      <td>sadness</td>\n",
       "    </tr>\n",
       "    <tr>\n",
       "      <th>474980</th>\n",
       "      <td>0x25cbaf</td>\n",
       "      <td>PsychologyDoc Goes to show how a little love c...</td>\n",
       "      <td>2017-05-03 22:11:38</td>\n",
       "      <td>565</td>\n",
       "      <td>surprise</td>\n",
       "    </tr>\n",
       "    <tr>\n",
       "      <th>504270</th>\n",
       "      <td>0x265e8d</td>\n",
       "      <td>Essex_CC wait 20 mins for a bus cos your board...</td>\n",
       "      <td>2015-09-12 11:44:50</td>\n",
       "      <td>420</td>\n",
       "      <td>anger</td>\n",
       "    </tr>\n",
       "    <tr>\n",
       "      <th>345488</th>\n",
       "      <td>0x2341ca</td>\n",
       "      <td>is just a fiction people stupidly  to be real...</td>\n",
       "      <td>2015-03-21 07:37:43</td>\n",
       "      <td>354</td>\n",
       "      <td>sadness</td>\n",
       "    </tr>\n",
       "    <tr>\n",
       "      <th>569792</th>\n",
       "      <td>0x27a70b</td>\n",
       "      <td>.WeWork proving to us that technology, design ...</td>\n",
       "      <td>2015-07-05 17:10:40</td>\n",
       "      <td>198</td>\n",
       "      <td>surprise</td>\n",
       "    </tr>\n",
       "    <tr>\n",
       "      <th>605255</th>\n",
       "      <td>0x285923</td>\n",
       "      <td>My cat just coughed up a pubic hairball....  1...</td>\n",
       "      <td>2017-06-18 23:53:01</td>\n",
       "      <td>617</td>\n",
       "      <td>sadness</td>\n",
       "    </tr>\n",
       "    <tr>\n",
       "      <th>719919</th>\n",
       "      <td>0x2a97f3</td>\n",
       "      <td>a bit feel depressed imagining-entering doctor...</td>\n",
       "      <td>2015-01-13 03:19:12</td>\n",
       "      <td>783</td>\n",
       "      <td>fear</td>\n",
       "    </tr>\n",
       "    <tr>\n",
       "      <th>249699</th>\n",
       "      <td>0x21624a</td>\n",
       "      <td>joeltelling apyrodesign Adobe AdobeAE Not inst...</td>\n",
       "      <td>2015-09-14 12:50:46</td>\n",
       "      <td>720</td>\n",
       "      <td>fear</td>\n",
       "    </tr>\n",
       "    <tr>\n",
       "      <th>1366801</th>\n",
       "      <td>0x37419e</td>\n",
       "      <td>WatchMojo KIDNAPPED !! |    😦</td>\n",
       "      <td>2016-01-11 09:35:44</td>\n",
       "      <td>26</td>\n",
       "      <td>surprise</td>\n",
       "    </tr>\n",
       "  </tbody>\n",
       "</table>\n",
       "</div>"
      ],
      "text/plain": [
       "         tweet_id                                         tweet_text  \\\n",
       "1065862  0x315f47  31 Push the  everyday. Be some special.  Novem...   \n",
       "52817    0x1d8812  We have Never had a President who picked fight...   \n",
       "474980   0x25cbaf  PsychologyDoc Goes to show how a little love c...   \n",
       "504270   0x265e8d  Essex_CC wait 20 mins for a bus cos your board...   \n",
       "345488   0x2341ca   is just a fiction people stupidly  to be real...   \n",
       "569792   0x27a70b  .WeWork proving to us that technology, design ...   \n",
       "605255   0x285923  My cat just coughed up a pubic hairball....  1...   \n",
       "719919   0x2a97f3  a bit feel depressed imagining-entering doctor...   \n",
       "249699   0x21624a  joeltelling apyrodesign Adobe AdobeAE Not inst...   \n",
       "1366801  0x37419e                     WatchMojo KIDNAPPED !! |    😦    \n",
       "\n",
       "                  crawl_date score target_emotion  \n",
       "1065862  2017-07-06 09:15:08   380            joy  \n",
       "52817    2016-01-20 18:16:33   609        sadness  \n",
       "474980   2017-05-03 22:11:38   565       surprise  \n",
       "504270   2015-09-12 11:44:50   420          anger  \n",
       "345488   2015-03-21 07:37:43   354        sadness  \n",
       "569792   2015-07-05 17:10:40   198       surprise  \n",
       "605255   2017-06-18 23:53:01   617        sadness  \n",
       "719919   2015-01-13 03:19:12   783           fear  \n",
       "249699   2015-09-14 12:50:46   720           fear  \n",
       "1366801  2016-01-11 09:35:44    26       surprise  "
      ]
     },
     "execution_count": 38,
     "metadata": {},
     "output_type": "execute_result"
    }
   ],
   "source": [
    "rtrain_df = rtrain_df.sample(frac=1)\n",
    "rtrain_df.head(10)"
   ]
  },
  {
   "cell_type": "markdown",
   "metadata": {},
   "source": [
    "## 2. Model"
   ]
  },
  {
   "cell_type": "markdown",
   "metadata": {},
   "source": [
    "#### 2.1 Decision Tree Classifier"
   ]
  },
  {
   "cell_type": "markdown",
   "metadata": {},
   "source": [
    "First, let's explore a Decision Tree model and test the model performance in Kaggle:"
   ]
  },
  {
   "cell_type": "code",
   "execution_count": 39,
   "metadata": {},
   "outputs": [
    {
     "name": "stderr",
     "output_type": "stream",
     "text": [
      "/opt/homebrew/lib/python3.11/site-packages/sklearn/feature_extraction/text.py:528: UserWarning: The parameter 'token_pattern' will not be used since 'tokenizer' is not None'\n",
      "  warnings.warn(\n"
     ]
    },
    {
     "data": {
      "text/plain": [
       "(480000, 5000)"
      ]
     },
     "execution_count": 39,
     "metadata": {},
     "output_type": "execute_result"
    }
   ],
   "source": [
    "import nltk\n",
    "from sklearn.feature_extraction.text import CountVectorizer\n",
    "\n",
    "# build analyzers (bag-of-words)\n",
    "BOW_5000 = CountVectorizer(max_features=5000, tokenizer=nltk.word_tokenize) \n",
    "\n",
    "# apply analyzer to training data\n",
    "BOW_5000.fit(rtrain_df['tweet_text'])\n",
    "\n",
    "train_data_BOW_features_5000 = BOW_5000.transform(rtrain_df['tweet_text'])\n",
    "\n",
    "## check dimension\n",
    "train_data_BOW_features_5000.shape"
   ]
  },
  {
   "cell_type": "markdown",
   "metadata": {},
   "source": [
    "Let's check if emojis are present in our features:"
   ]
  },
  {
   "cell_type": "code",
   "execution_count": 40,
   "metadata": {},
   "outputs": [
    {
     "data": {
      "text/plain": [
       "True"
      ]
     },
     "execution_count": 40,
     "metadata": {},
     "output_type": "execute_result"
    }
   ],
   "source": [
    "feature_names_5000 = BOW_5000.get_feature_names_out()\n",
    "\"😂\" in feature_names_5000"
   ]
  },
  {
   "cell_type": "markdown",
   "metadata": {},
   "source": [
    "Next, let's train the classifier:"
   ]
  },
  {
   "cell_type": "code",
   "execution_count": 41,
   "metadata": {},
   "outputs": [
    {
     "name": "stdout",
     "output_type": "stream",
     "text": [
      "X_train.shape:  (480000, 5000)\n",
      "y_train.shape:  (480000,)\n"
     ]
    }
   ],
   "source": [
    "from sklearn.tree import DecisionTreeClassifier\n",
    "\n",
    "X_train = train_data_BOW_features_5000\n",
    "y_train = rtrain_df['target_emotion']\n",
    "\n",
    "##Let's take a look at the dimensions\n",
    "print('X_train.shape: ', X_train.shape)\n",
    "print('y_train.shape: ', y_train.shape)"
   ]
  },
  {
   "cell_type": "code",
   "execution_count": 42,
   "metadata": {},
   "outputs": [
    {
     "name": "stderr",
     "output_type": "stream",
     "text": [
      "/opt/homebrew/lib/python3.11/site-packages/sklearn/utils/validation.py:605: FutureWarning: is_sparse is deprecated and will be removed in a future version. Check `isinstance(dtype, pd.SparseDtype)` instead.\n",
      "  if is_sparse(pd_dtype):\n",
      "/opt/homebrew/lib/python3.11/site-packages/sklearn/utils/validation.py:614: FutureWarning: is_sparse is deprecated and will be removed in a future version. Check `isinstance(dtype, pd.SparseDtype)` instead.\n",
      "  if is_sparse(pd_dtype) or not is_extension_array_dtype(pd_dtype):\n"
     ]
    }
   ],
   "source": [
    "## Build the DecisionTree model\n",
    "DT_model = DecisionTreeClassifier(random_state=42)\n",
    "\n",
    "## Train the model\n",
    "DT_model = DT_model.fit(X_train, y_train)"
   ]
  },
  {
   "cell_type": "markdown",
   "metadata": {},
   "source": [
    "Now, let's test the performance of our classifier in Kaggle. Let's create a test dataframe from the test.csv file and clean it as we did with the r_train dataset:"
   ]
  },
  {
   "cell_type": "code",
   "execution_count": 43,
   "metadata": {},
   "outputs": [
    {
     "name": "stderr",
     "output_type": "stream",
     "text": [
      "/var/folders/qf/_jd53fqs7hn9l98yc6xmfh040000gn/T/ipykernel_96340/844371213.py:1: DtypeWarning: Columns (4) have mixed types. Specify dtype option on import or set low_memory=False.\n",
      "  test_df = pd.read_csv(\"./test.csv\",header=None, names=['tweet_id','tweet_text','hashtag_text','crawl_date','score'])\n"
     ]
    },
    {
     "data": {
      "text/html": [
       "<div>\n",
       "<style scoped>\n",
       "    .dataframe tbody tr th:only-of-type {\n",
       "        vertical-align: middle;\n",
       "    }\n",
       "\n",
       "    .dataframe tbody tr th {\n",
       "        vertical-align: top;\n",
       "    }\n",
       "\n",
       "    .dataframe thead th {\n",
       "        text-align: right;\n",
       "    }\n",
       "</style>\n",
       "<table border=\"1\" class=\"dataframe\">\n",
       "  <thead>\n",
       "    <tr style=\"text-align: right;\">\n",
       "      <th></th>\n",
       "      <th>tweet_id</th>\n",
       "      <th>tweet_text</th>\n",
       "      <th>hashtag_text</th>\n",
       "      <th>crawl_date</th>\n",
       "      <th>score</th>\n",
       "    </tr>\n",
       "  </thead>\n",
       "  <tbody>\n",
       "    <tr>\n",
       "      <th>1</th>\n",
       "      <td>0x28cc61</td>\n",
       "      <td>@Habbo I've seen two separate colours of the e...</td>\n",
       "      <td></td>\n",
       "      <td>2017-01-17 14:13:32</td>\n",
       "      <td>107</td>\n",
       "    </tr>\n",
       "    <tr>\n",
       "      <th>2</th>\n",
       "      <td>0x2db41f</td>\n",
       "      <td>@FoxNews @KellyannePolls No serious self respe...</td>\n",
       "      <td></td>\n",
       "      <td>2015-10-17 06:46:20</td>\n",
       "      <td>728</td>\n",
       "    </tr>\n",
       "    <tr>\n",
       "      <th>3</th>\n",
       "      <td>0x2466f6</td>\n",
       "      <td>Looking for a new car, and it says 1 lady owne...</td>\n",
       "      <td>womendrivers</td>\n",
       "      <td>2016-12-19 03:50:27</td>\n",
       "      <td>491</td>\n",
       "    </tr>\n",
       "    <tr>\n",
       "      <th>4</th>\n",
       "      <td>0x23f9e9</td>\n",
       "      <td>@cineworld “only the brave” just out and fount...</td>\n",
       "      <td>robbingmembers</td>\n",
       "      <td>2017-04-09 19:32:19</td>\n",
       "      <td>28</td>\n",
       "    </tr>\n",
       "    <tr>\n",
       "      <th>5</th>\n",
       "      <td>0x1fb4e1</td>\n",
       "      <td>Felt like total dog 💩 going into open gym and ...</td>\n",
       "      <td></td>\n",
       "      <td>2016-01-15 11:59:31</td>\n",
       "      <td>925</td>\n",
       "    </tr>\n",
       "  </tbody>\n",
       "</table>\n",
       "</div>"
      ],
      "text/plain": [
       "   tweet_id                                         tweet_text  \\\n",
       "1  0x28cc61  @Habbo I've seen two separate colours of the e...   \n",
       "2  0x2db41f  @FoxNews @KellyannePolls No serious self respe...   \n",
       "3  0x2466f6  Looking for a new car, and it says 1 lady owne...   \n",
       "4  0x23f9e9  @cineworld “only the brave” just out and fount...   \n",
       "5  0x1fb4e1  Felt like total dog 💩 going into open gym and ...   \n",
       "\n",
       "     hashtag_text           crawl_date score  \n",
       "1                  2017-01-17 14:13:32   107  \n",
       "2                  2015-10-17 06:46:20   728  \n",
       "3    womendrivers  2016-12-19 03:50:27   491  \n",
       "4  robbingmembers  2017-04-09 19:32:19    28  \n",
       "5                  2016-01-15 11:59:31   925  "
      ]
     },
     "execution_count": 43,
     "metadata": {},
     "output_type": "execute_result"
    }
   ],
   "source": [
    "test_df = pd.read_csv(\"./test.csv\",header=None, names=['tweet_id','tweet_text','hashtag_text','crawl_date','score'])\n",
    "test_df.drop([0], inplace = True); #Drop the header\n",
    "test_df.head()"
   ]
  },
  {
   "cell_type": "code",
   "execution_count": 44,
   "metadata": {},
   "outputs": [
    {
     "data": {
      "text/html": [
       "<div>\n",
       "<style scoped>\n",
       "    .dataframe tbody tr th:only-of-type {\n",
       "        vertical-align: middle;\n",
       "    }\n",
       "\n",
       "    .dataframe tbody tr th {\n",
       "        vertical-align: top;\n",
       "    }\n",
       "\n",
       "    .dataframe thead th {\n",
       "        text-align: right;\n",
       "    }\n",
       "</style>\n",
       "<table border=\"1\" class=\"dataframe\">\n",
       "  <thead>\n",
       "    <tr style=\"text-align: right;\">\n",
       "      <th></th>\n",
       "      <th>tweet_id</th>\n",
       "      <th>tweet_text</th>\n",
       "      <th>crawl_date</th>\n",
       "      <th>score</th>\n",
       "    </tr>\n",
       "  </thead>\n",
       "  <tbody>\n",
       "    <tr>\n",
       "      <th>1</th>\n",
       "      <td>0x28cc61</td>\n",
       "      <td>Habbo I've seen two separate colours of the el...</td>\n",
       "      <td>2017-01-17 14:13:32</td>\n",
       "      <td>107</td>\n",
       "    </tr>\n",
       "    <tr>\n",
       "      <th>2</th>\n",
       "      <td>0x2db41f</td>\n",
       "      <td>FoxNews KellyannePolls No serious self respect...</td>\n",
       "      <td>2015-10-17 06:46:20</td>\n",
       "      <td>728</td>\n",
       "    </tr>\n",
       "    <tr>\n",
       "      <th>3</th>\n",
       "      <td>0x2466f6</td>\n",
       "      <td>Looking for a new car, and it says 1 lady owne...</td>\n",
       "      <td>2016-12-19 03:50:27</td>\n",
       "      <td>491</td>\n",
       "    </tr>\n",
       "    <tr>\n",
       "      <th>4</th>\n",
       "      <td>0x23f9e9</td>\n",
       "      <td>cineworld “only the brave” just out and founta...</td>\n",
       "      <td>2017-04-09 19:32:19</td>\n",
       "      <td>28</td>\n",
       "    </tr>\n",
       "    <tr>\n",
       "      <th>5</th>\n",
       "      <td>0x1fb4e1</td>\n",
       "      <td>Felt like total dog 💩 going into open gym and ...</td>\n",
       "      <td>2016-01-15 11:59:31</td>\n",
       "      <td>925</td>\n",
       "    </tr>\n",
       "  </tbody>\n",
       "</table>\n",
       "</div>"
      ],
      "text/plain": [
       "   tweet_id                                         tweet_text  \\\n",
       "1  0x28cc61  Habbo I've seen two separate colours of the el...   \n",
       "2  0x2db41f  FoxNews KellyannePolls No serious self respect...   \n",
       "3  0x2466f6  Looking for a new car, and it says 1 lady owne...   \n",
       "4  0x23f9e9  cineworld “only the brave” just out and founta...   \n",
       "5  0x1fb4e1  Felt like total dog 💩 going into open gym and ...   \n",
       "\n",
       "            crawl_date score  \n",
       "1  2017-01-17 14:13:32   107  \n",
       "2  2015-10-17 06:46:20   728  \n",
       "3  2016-12-19 03:50:27   491  \n",
       "4  2017-04-09 19:32:19    28  \n",
       "5  2016-01-15 11:59:31   925  "
      ]
     },
     "execution_count": 44,
     "metadata": {},
     "output_type": "execute_result"
    }
   ],
   "source": [
    "###Clean the test dataset \n",
    "test_df['tweet_text'] = test_df['tweet_text'].astype('string') + test_df['hashtag_text'].astype('string')\n",
    "test_df.drop('hashtag_text', axis=1, inplace=True)\n",
    "test_df['tweet_text'] = test_df['tweet_text'].map(lambda x: x.replace('#',''))\n",
    "test_df['tweet_text'] = test_df['tweet_text'].map(lambda x: x.replace('@',''))\n",
    "test_df['tweet_text'] = test_df['tweet_text'].map(lambda x: x.replace('<LH>',''))\n",
    "\n",
    "test_df['tweet_text'] = test_df['tweet_text'].apply(removeLinks)\n",
    "test_df.head()"
   ]
  },
  {
   "cell_type": "code",
   "execution_count": 46,
   "metadata": {},
   "outputs": [],
   "source": [
    "###Declare X_test and transform it\n",
    "X_test = BOW_5000.transform(test_df['tweet_text'])\n",
    "\n",
    "###Make an initial prediction \n",
    "y_test_pred = DT_model.predict(X_test)"
   ]
  },
  {
   "cell_type": "code",
   "execution_count": 47,
   "metadata": {},
   "outputs": [
    {
     "data": {
      "text/plain": [
       "(411972,)"
      ]
     },
     "execution_count": 47,
     "metadata": {},
     "output_type": "execute_result"
    }
   ],
   "source": [
    "y_test_pred.shape"
   ]
  },
  {
   "cell_type": "code",
   "execution_count": 48,
   "metadata": {},
   "outputs": [
    {
     "data": {
      "text/plain": [
       "array(['disgust', 'sadness', 'sadness', 'trust', 'anticipation', 'joy',\n",
       "       'trust', 'joy', 'disgust', 'disgust', 'surprise', 'joy', 'sadness',\n",
       "       'disgust', 'trust', 'joy', 'surprise', 'anticipation', 'surprise',\n",
       "       'trust'], dtype=object)"
      ]
     },
     "execution_count": 48,
     "metadata": {},
     "output_type": "execute_result"
    }
   ],
   "source": [
    "y_test_pred[:20]"
   ]
  },
  {
   "cell_type": "markdown",
   "metadata": {},
   "source": [
    "Let's write these results to a *submission* csv file:"
   ]
  },
  {
   "cell_type": "code",
   "execution_count": null,
   "metadata": {},
   "outputs": [],
   "source": [
    "def writeSubmissionCSV(test_df, y_test_pred):\n",
    "    #Open the train.csv and test.csv in writing mode\n",
    "    sub_file = open(\"./submission.csv\", 'w', newline='');\n",
    "    sub_writer = csv.writer(sub_file);\n",
    "\n",
    "    #Write the header\n",
    "    header = ['id','emotion'];\n",
    "    sub_writer.writerow(header); \n",
    "\n",
    "    #Convert the test_df tweet id column to a list\n",
    "    tweet_ids = test_df['tweet_id'].to_list();\n",
    "\n",
    "    #Write to the CSV file \n",
    "    data = [];\n",
    "    count = 0;\n",
    "    for id in tweet_ids:\n",
    "        data = [id, y_test_pred[count]]\n",
    "        sub_writer.writerow(data);\n",
    "        count+=1\n",
    "        data = []\n",
    "\n",
    "    #Close the CSV file \n",
    "    sub_file.close();"
   ]
  },
  {
   "cell_type": "markdown",
   "metadata": {},
   "source": [
    "### **-----------DT MODEL KAGGLE SCORE: 0.23571--------------------**"
   ]
  },
  {
   "cell_type": "markdown",
   "metadata": {},
   "source": [
    "Let's try a random forest classifier now:"
   ]
  },
  {
   "cell_type": "markdown",
   "metadata": {},
   "source": [
    "#### 2.2 Random Forest Classifier"
   ]
  },
  {
   "cell_type": "code",
   "execution_count": null,
   "metadata": {},
   "outputs": [
    {
     "name": "stderr",
     "output_type": "stream",
     "text": [
      "/opt/homebrew/lib/python3.11/site-packages/sklearn/utils/validation.py:605: FutureWarning: is_sparse is deprecated and will be removed in a future version. Check `isinstance(dtype, pd.SparseDtype)` instead.\n",
      "  if is_sparse(pd_dtype):\n",
      "/opt/homebrew/lib/python3.11/site-packages/sklearn/utils/validation.py:614: FutureWarning: is_sparse is deprecated and will be removed in a future version. Check `isinstance(dtype, pd.SparseDtype)` instead.\n",
      "  if is_sparse(pd_dtype) or not is_extension_array_dtype(pd_dtype):\n"
     ]
    }
   ],
   "source": [
    "from sklearn.ensemble import RandomForestClassifier\n",
    "\n",
    "# Create a model with defined parameters\n",
    "rf_class = RandomForestClassifier(n_estimators=100, n_jobs=-1)\n",
    "\n",
    "# Fit the vectorized train set to the model\n",
    "rf_model = rf_class.fit(X_train, y_train)"
   ]
  },
  {
   "cell_type": "code",
   "execution_count": null,
   "metadata": {},
   "outputs": [],
   "source": [
    "##Predict\n",
    "y_pred = rf_model.predict(X_test)"
   ]
  },
  {
   "cell_type": "code",
   "execution_count": null,
   "metadata": {},
   "outputs": [
    {
     "data": {
      "text/plain": [
       "array(['sadness', 'disgust', 'trust', 'joy', 'disgust', 'joy', 'trust',\n",
       "       'sadness', 'anticipation', 'sadness'], dtype=object)"
      ]
     },
     "execution_count": 51,
     "metadata": {},
     "output_type": "execute_result"
    }
   ],
   "source": [
    "y_pred[0:10]"
   ]
  },
  {
   "cell_type": "code",
   "execution_count": null,
   "metadata": {},
   "outputs": [],
   "source": [
    "writeSubmissionCSV(test_df, y_pred)"
   ]
  },
  {
   "cell_type": "code",
   "execution_count": null,
   "metadata": {},
   "outputs": [],
   "source": []
  }
 ],
 "metadata": {
  "kernelspec": {
   "display_name": "Python 3",
   "language": "python",
   "name": "python3"
  },
  "language_info": {
   "codemirror_mode": {
    "name": "ipython",
    "version": 3
   },
   "file_extension": ".py",
   "mimetype": "text/x-python",
   "name": "python",
   "nbconvert_exporter": "python",
   "pygments_lexer": "ipython3",
   "version": "3.11.1"
  }
 },
 "nbformat": 4,
 "nbformat_minor": 2
}
